{
 "cells": [
  {
   "cell_type": "markdown",
   "id": "17e1a035-1e61-4870-9937-790cbba38ab5",
   "metadata": {},
   "source": [
    "- This notebook cleans data obtained from public, online sources\n",
    "- This data, particularly the census data, was not in an easily accessible format for Tableau visualization or manipulation"
   ]
  },
  {
   "cell_type": "code",
   "execution_count": 1,
   "id": "3c1f2bd1-2400-42c7-961b-fe7ea6635794",
   "metadata": {},
   "outputs": [],
   "source": [
    "import pandas as pd\n",
    "import re"
   ]
  },
  {
   "cell_type": "markdown",
   "id": "67e6693d-ec91-49b8-b3c7-3c17dac15484",
   "metadata": {},
   "source": [
    "## President Votes by State Cleaning\n",
    "[Presidential Votes by State Link](https://dataverse.harvard.edu/dataset.xhtml?persistentId=doi:10.7910/DVN/42MVDX#)"
   ]
  },
  {
   "cell_type": "code",
   "execution_count": 3,
   "id": "2e9e7af7-6619-4589-83ae-59c537e9aa09",
   "metadata": {},
   "outputs": [],
   "source": [
    "pres = pd.read_csv('1976-2020-president.csv')"
   ]
  },
  {
   "cell_type": "code",
   "execution_count": 4,
   "id": "4a63605a-b61c-4bad-99d2-37ca5c021636",
   "metadata": {},
   "outputs": [],
   "source": [
    "pres2020 = pres[pres['year']==2020]"
   ]
  },
  {
   "cell_type": "code",
   "execution_count": 8,
   "id": "7c7bb5b2-2eb3-48a0-9f27-805e9bf9883d",
   "metadata": {},
   "outputs": [],
   "source": [
    "pres2020 = pres2020[(pres2020['party_simplified']=='REPUBLICAN') | (pres2020['party_simplified']=='DEMOCRAT')]"
   ]
  },
  {
   "cell_type": "code",
   "execution_count": 10,
   "id": "5efce2aa-6bb3-4d89-8a7c-187a404ecd7c",
   "metadata": {},
   "outputs": [],
   "source": [
    "pres2020dem = pres2020[pres2020['party_simplified']=='DEMOCRAT'][['state', 'candidatevotes', 'totalvotes']]"
   ]
  },
  {
   "cell_type": "code",
   "execution_count": 12,
   "id": "72b1fc7a-b018-4525-b255-2a919631bb79",
   "metadata": {},
   "outputs": [],
   "source": [
    "pres2020dem['percent_democrat'] = round((pres2020dem.candidatevotes / pres2020dem.totalvotes)*100, 2)"
   ]
  },
  {
   "cell_type": "code",
   "execution_count": 14,
   "id": "043a19be-7f4e-4415-af8e-0e1ac3beb5ba",
   "metadata": {},
   "outputs": [],
   "source": [
    "pres2020rep = pres2020[pres2020['party_simplified']=='REPUBLICAN'][['state', 'candidatevotes', 'totalvotes']]"
   ]
  },
  {
   "cell_type": "code",
   "execution_count": 16,
   "id": "34e617e0-409b-47a2-a265-712c8fb5db60",
   "metadata": {},
   "outputs": [],
   "source": [
    "pres2020rep['percent_republican'] = round((pres2020rep.candidatevotes / pres2020rep.totalvotes)*100, 2)"
   ]
  },
  {
   "cell_type": "code",
   "execution_count": 18,
   "id": "13c6cdac-2d78-4686-b8f0-4ea3d0f9502d",
   "metadata": {},
   "outputs": [],
   "source": [
    "presvotes = pres2020dem.merge(pres2020rep, left_on = 'state', right_on = 'state', how='inner') \\\n",
    "[['state', 'percent_democrat', 'percent_republican']]"
   ]
  },
  {
   "cell_type": "code",
   "execution_count": 20,
   "id": "79bacc0b-e558-4c94-933e-9a3224add350",
   "metadata": {},
   "outputs": [
    {
     "data": {
      "text/html": [
       "<div>\n",
       "<style scoped>\n",
       "    .dataframe tbody tr th:only-of-type {\n",
       "        vertical-align: middle;\n",
       "    }\n",
       "\n",
       "    .dataframe tbody tr th {\n",
       "        vertical-align: top;\n",
       "    }\n",
       "\n",
       "    .dataframe thead th {\n",
       "        text-align: right;\n",
       "    }\n",
       "</style>\n",
       "<table border=\"1\" class=\"dataframe\">\n",
       "  <thead>\n",
       "    <tr style=\"text-align: right;\">\n",
       "      <th></th>\n",
       "      <th>state</th>\n",
       "      <th>percent_democrat</th>\n",
       "      <th>percent_republican</th>\n",
       "    </tr>\n",
       "  </thead>\n",
       "  <tbody>\n",
       "    <tr>\n",
       "      <th>0</th>\n",
       "      <td>ALABAMA</td>\n",
       "      <td>36.57</td>\n",
       "      <td>62.03</td>\n",
       "    </tr>\n",
       "    <tr>\n",
       "      <th>1</th>\n",
       "      <td>ALASKA</td>\n",
       "      <td>42.77</td>\n",
       "      <td>52.83</td>\n",
       "    </tr>\n",
       "    <tr>\n",
       "      <th>2</th>\n",
       "      <td>ARIZONA</td>\n",
       "      <td>49.36</td>\n",
       "      <td>49.06</td>\n",
       "    </tr>\n",
       "    <tr>\n",
       "      <th>3</th>\n",
       "      <td>ARKANSAS</td>\n",
       "      <td>34.78</td>\n",
       "      <td>62.40</td>\n",
       "    </tr>\n",
       "    <tr>\n",
       "      <th>4</th>\n",
       "      <td>CALIFORNIA</td>\n",
       "      <td>63.48</td>\n",
       "      <td>34.32</td>\n",
       "    </tr>\n",
       "  </tbody>\n",
       "</table>\n",
       "</div>"
      ],
      "text/plain": [
       "        state  percent_democrat  percent_republican\n",
       "0     ALABAMA             36.57               62.03\n",
       "1      ALASKA             42.77               52.83\n",
       "2     ARIZONA             49.36               49.06\n",
       "3    ARKANSAS             34.78               62.40\n",
       "4  CALIFORNIA             63.48               34.32"
      ]
     },
     "execution_count": 20,
     "metadata": {},
     "output_type": "execute_result"
    }
   ],
   "source": [
    "presvotes.head()"
   ]
  },
  {
   "cell_type": "code",
   "execution_count": 343,
   "id": "c01b5324-1924-48af-a908-83f44486ad6b",
   "metadata": {},
   "outputs": [],
   "source": [
    "presvotes.to_csv('votes_states.csv', index=False)"
   ]
  },
  {
   "cell_type": "markdown",
   "id": "b17cb03b-51bd-42f6-a56a-dc9f4f00ab7e",
   "metadata": {},
   "source": [
    "## Education Demographics by State Cleaning"
   ]
  },
  {
   "attachments": {},
   "cell_type": "markdown",
   "id": "aa98b1f6-efeb-4f6d-83b3-433c5b7ee3ee",
   "metadata": {},
   "source": [
    "[Education Demographics Census Link](https://data.census.gov/table/ACSST5Y2020.S1501?t=Educational%20Attainment&g=010XX00US$0400000&moe=false&tp=true!)\n",
    " - Have to transpose data in link, then only select only \"Population 25 years and over\" column set"
   ]
  },
  {
   "cell_type": "code",
   "execution_count": 99,
   "id": "d5ebdacb-d8fd-4a4e-83f0-5ec3760c92f0",
   "metadata": {},
   "outputs": [],
   "source": [
    "ed = pd.read_csv('EducationDemographics.csv')"
   ]
  },
  {
   "cell_type": "code",
   "execution_count": 101,
   "id": "27867f9c-3d81-4210-b1a1-53648cfca68b",
   "metadata": {},
   "outputs": [],
   "source": [
    "ed = ed.drop(columns = ['AGE BY EDUCATIONAL ATTAINMENT!!Population 25 years and over'])"
   ]
  },
  {
   "cell_type": "code",
   "execution_count": 107,
   "id": "cb227577-c090-494e-9d58-16a64b4504de",
   "metadata": {},
   "outputs": [],
   "source": [
    "i = 0\n",
    "while i < len(ed)-4:\n",
    "    for c in ed.columns:\n",
    "        if c!='Label (Grouping)':\n",
    "            ed[c][i] = ed[c][i+4]\n",
    "    i+=13"
   ]
  },
  {
   "cell_type": "code",
   "execution_count": 113,
   "id": "5a9f8a1e-28cc-44be-8ef0-f3ec5f30176e",
   "metadata": {},
   "outputs": [],
   "source": [
    "ed = ed[(ed['Label (Grouping)'] != '\\xa0\\xa0\\xa0\\xa0Total') & \n",
    "        (ed['Label (Grouping)'] != '\\xa0\\xa0\\xa0\\xa0\\xa0\\xa0\\xa0\\xa0Estimate') & \n",
    "        (ed['Label (Grouping)'] != 'Percent')]"
   ]
  },
  {
   "cell_type": "code",
   "execution_count": 52,
   "id": "82dc2961-db12-4286-b8c1-f99c65f0f4ce",
   "metadata": {},
   "outputs": [],
   "source": [
    "pattern = re.compile(r'\\xa0')"
   ]
  },
  {
   "cell_type": "code",
   "execution_count": 145,
   "id": "c400c520-6266-446c-93fa-343eeaab5293",
   "metadata": {},
   "outputs": [],
   "source": [
    "ed_filtered = ed[~ed['Label (Grouping)'].str.contains(pattern)]"
   ]
  },
  {
   "cell_type": "code",
   "execution_count": 153,
   "id": "2092fb44-df43-4a0f-a660-6df5bee6f5f3",
   "metadata": {},
   "outputs": [],
   "source": [
    "ed_filtered = \\\n",
    "ed_filtered.rename(\n",
    "    columns={'Label (Grouping)' : 'state',\n",
    "            'AGE BY EDUCATIONAL ATTAINMENT!!Population 25 years and over!!Less than 9th grade' : 'Less than 9th',\n",
    "            'AGE BY EDUCATIONAL ATTAINMENT!!Population 25 years and over!!9th to 12th grade, no diploma' : 'Less than 12th',\n",
    "            'AGE BY EDUCATIONAL ATTAINMENT!!Population 25 years and over!!High school graduate (includes equivalency)' : 'High school graduate',\n",
    "            'AGE BY EDUCATIONAL ATTAINMENT!!Population 25 years and over!!Some college, no degree': 'Some college',\n",
    "            \"AGE BY EDUCATIONAL ATTAINMENT!!Population 25 years and over!!Associate's degree\" : \"Associate's Degree\", \n",
    "            \"AGE BY EDUCATIONAL ATTAINMENT!!Population 25 years and over!!Bachelor's degree or higher\": \"Bachelor's or higher\"})"
   ]
  },
  {
   "cell_type": "code",
   "execution_count": 161,
   "id": "cb3925d4-1cac-4004-bcba-95bbdbd6ed14",
   "metadata": {},
   "outputs": [],
   "source": [
    "ed_filtered = ed_filtered.reset_index(drop=True)"
   ]
  },
  {
   "cell_type": "code",
   "execution_count": 167,
   "id": "c0f29289-c982-4f67-85cb-a73f3a71b0fb",
   "metadata": {},
   "outputs": [],
   "source": [
    "ed_filtered['state'] = ed_filtered['state'].str.upper()"
   ]
  },
  {
   "cell_type": "code",
   "execution_count": 171,
   "id": "b57cc4b1-b0a0-45d8-b1ff-210be7bfd939",
   "metadata": {},
   "outputs": [],
   "source": [
    "for c in ed_filtered.columns:\n",
    "    ed_filtered[c] = ed_filtered[c].str.replace(\"%\", \"\")"
   ]
  },
  {
   "cell_type": "code",
   "execution_count": 175,
   "id": "ffcc6cc1-652e-4e44-912f-9188b11a98ea",
   "metadata": {},
   "outputs": [
    {
     "data": {
      "text/html": [
       "<div>\n",
       "<style scoped>\n",
       "    .dataframe tbody tr th:only-of-type {\n",
       "        vertical-align: middle;\n",
       "    }\n",
       "\n",
       "    .dataframe tbody tr th {\n",
       "        vertical-align: top;\n",
       "    }\n",
       "\n",
       "    .dataframe thead th {\n",
       "        text-align: right;\n",
       "    }\n",
       "</style>\n",
       "<table border=\"1\" class=\"dataframe\">\n",
       "  <thead>\n",
       "    <tr style=\"text-align: right;\">\n",
       "      <th></th>\n",
       "      <th>state</th>\n",
       "      <th>Less than 9th</th>\n",
       "      <th>Less than 12th</th>\n",
       "      <th>High school graduate</th>\n",
       "      <th>Some college</th>\n",
       "      <th>Associate's Degree</th>\n",
       "      <th>Bachelor's or higher</th>\n",
       "    </tr>\n",
       "  </thead>\n",
       "  <tbody>\n",
       "    <tr>\n",
       "      <th>0</th>\n",
       "      <td>ALABAMA</td>\n",
       "      <td>4.00</td>\n",
       "      <td>9.10</td>\n",
       "      <td>30.30</td>\n",
       "      <td>21.60</td>\n",
       "      <td>8.70</td>\n",
       "      <td>26.20</td>\n",
       "    </tr>\n",
       "    <tr>\n",
       "      <th>1</th>\n",
       "      <td>ALASKA</td>\n",
       "      <td>2.40</td>\n",
       "      <td>4.50</td>\n",
       "      <td>28.40</td>\n",
       "      <td>26.00</td>\n",
       "      <td>8.70</td>\n",
       "      <td>30.00</td>\n",
       "    </tr>\n",
       "    <tr>\n",
       "      <th>2</th>\n",
       "      <td>ARIZONA</td>\n",
       "      <td>5.10</td>\n",
       "      <td>7.00</td>\n",
       "      <td>23.80</td>\n",
       "      <td>24.90</td>\n",
       "      <td>8.90</td>\n",
       "      <td>30.30</td>\n",
       "    </tr>\n",
       "    <tr>\n",
       "      <th>3</th>\n",
       "      <td>ARKANSAS</td>\n",
       "      <td>4.70</td>\n",
       "      <td>8.10</td>\n",
       "      <td>33.90</td>\n",
       "      <td>22.00</td>\n",
       "      <td>7.50</td>\n",
       "      <td>23.80</td>\n",
       "    </tr>\n",
       "    <tr>\n",
       "      <th>4</th>\n",
       "      <td>CALIFORNIA</td>\n",
       "      <td>8.90</td>\n",
       "      <td>7.20</td>\n",
       "      <td>20.40</td>\n",
       "      <td>20.90</td>\n",
       "      <td>8.00</td>\n",
       "      <td>34.70</td>\n",
       "    </tr>\n",
       "  </tbody>\n",
       "</table>\n",
       "</div>"
      ],
      "text/plain": [
       "        state Less than 9th Less than 12th High school graduate Some college  \\\n",
       "0     ALABAMA          4.00           9.10                30.30        21.60   \n",
       "1      ALASKA          2.40           4.50                28.40        26.00   \n",
       "2     ARIZONA          5.10           7.00                23.80        24.90   \n",
       "3    ARKANSAS          4.70           8.10                33.90        22.00   \n",
       "4  CALIFORNIA          8.90           7.20                20.40        20.90   \n",
       "\n",
       "  Associate's Degree Bachelor's or higher  \n",
       "0               8.70                26.20  \n",
       "1               8.70                30.00  \n",
       "2               8.90                30.30  \n",
       "3               7.50                23.80  \n",
       "4               8.00                34.70  "
      ]
     },
     "execution_count": 175,
     "metadata": {},
     "output_type": "execute_result"
    }
   ],
   "source": [
    "ed_filtered.head(5)"
   ]
  },
  {
   "cell_type": "code",
   "execution_count": 341,
   "id": "238ef15d-5893-4379-9e55-f518377a55f0",
   "metadata": {},
   "outputs": [],
   "source": [
    "ed_filtered.to_csv('education_states.csv', index=False)"
   ]
  },
  {
   "cell_type": "markdown",
   "id": "b910a748-9be1-4ad7-aa70-cd15ceb8f106",
   "metadata": {},
   "source": [
    "## Race Demographics by State Cleaning"
   ]
  },
  {
   "cell_type": "markdown",
   "id": "997d6898-9706-4a9e-a3ca-ca3c32ddc763",
   "metadata": {},
   "source": [
    "[Race Demographics Census Link](https://data.census.gov/table/ACSDP5Y2020.DP05?g=010XX00US$0400000&moe=false&tp=true)\n",
    "- Have to select only the \"White\" column"
   ]
  },
  {
   "cell_type": "code",
   "execution_count": 42,
   "id": "a3b57230-ae2b-4fe7-8dd8-dbca8b2f34e4",
   "metadata": {},
   "outputs": [],
   "source": [
    "race = pd.read_csv('RaceDemographics.csv')"
   ]
  },
  {
   "cell_type": "code",
   "execution_count": 44,
   "id": "30739392-6b2b-43c2-bc13-772bb1a247da",
   "metadata": {},
   "outputs": [
    {
     "data": {
      "text/html": [
       "<div>\n",
       "<style scoped>\n",
       "    .dataframe tbody tr th:only-of-type {\n",
       "        vertical-align: middle;\n",
       "    }\n",
       "\n",
       "    .dataframe tbody tr th {\n",
       "        vertical-align: top;\n",
       "    }\n",
       "\n",
       "    .dataframe thead th {\n",
       "        text-align: right;\n",
       "    }\n",
       "</style>\n",
       "<table border=\"1\" class=\"dataframe\">\n",
       "  <thead>\n",
       "    <tr style=\"text-align: right;\">\n",
       "      <th></th>\n",
       "      <th>Label (Grouping)</th>\n",
       "      <th>RACE!!Total population!!One race!!White</th>\n",
       "    </tr>\n",
       "  </thead>\n",
       "  <tbody>\n",
       "    <tr>\n",
       "      <th>0</th>\n",
       "      <td>Alabama</td>\n",
       "      <td>NaN</td>\n",
       "    </tr>\n",
       "    <tr>\n",
       "      <th>1</th>\n",
       "      <td>Estimate</td>\n",
       "      <td>3,302,834</td>\n",
       "    </tr>\n",
       "    <tr>\n",
       "      <th>2</th>\n",
       "      <td>Percent</td>\n",
       "      <td>67.50%</td>\n",
       "    </tr>\n",
       "    <tr>\n",
       "      <th>3</th>\n",
       "      <td>Alaska</td>\n",
       "      <td>NaN</td>\n",
       "    </tr>\n",
       "    <tr>\n",
       "      <th>4</th>\n",
       "      <td>Estimate</td>\n",
       "      <td>466,961</td>\n",
       "    </tr>\n",
       "  </tbody>\n",
       "</table>\n",
       "</div>"
      ],
      "text/plain": [
       "  Label (Grouping) RACE!!Total population!!One race!!White\n",
       "0          Alabama                                     NaN\n",
       "1         Estimate                               3,302,834\n",
       "2          Percent                                  67.50%\n",
       "3           Alaska                                     NaN\n",
       "4         Estimate                                 466,961"
      ]
     },
     "execution_count": 44,
     "metadata": {},
     "output_type": "execute_result"
    }
   ],
   "source": [
    "race.head(5)"
   ]
  },
  {
   "cell_type": "code",
   "execution_count": 46,
   "id": "37151b74-d98f-45a8-a259-bc038848d1fb",
   "metadata": {},
   "outputs": [
    {
     "data": {
      "text/plain": [
       "Index(['Label (Grouping)', 'RACE!!Total population!!One race!!White'], dtype='object')"
      ]
     },
     "execution_count": 46,
     "metadata": {},
     "output_type": "execute_result"
    }
   ],
   "source": [
    "race.columns"
   ]
  },
  {
   "cell_type": "code",
   "execution_count": 48,
   "id": "1c61ff17-1056-4a63-9cd8-b1e8a13bc8be",
   "metadata": {},
   "outputs": [],
   "source": [
    "i = 0\n",
    "while i < len(race)-2:\n",
    "    race['RACE!!Total population!!One race!!White'][i] = race['RACE!!Total population!!One race!!White'][i+2]\n",
    "    i+=3"
   ]
  },
  {
   "cell_type": "code",
   "execution_count": 54,
   "id": "c3642dd9-f146-444c-be1d-1ffb9e7e4e35",
   "metadata": {},
   "outputs": [],
   "source": [
    "race_filtered = race[~race['Label (Grouping)'].str.contains(pattern)]"
   ]
  },
  {
   "cell_type": "code",
   "execution_count": 56,
   "id": "9a5ac2d4-71a7-46f2-9bf4-e1d5901a754d",
   "metadata": {},
   "outputs": [],
   "source": [
    "race_filtered = race_filtered.reset_index(drop=True)"
   ]
  },
  {
   "cell_type": "code",
   "execution_count": 58,
   "id": "a9d26e13-43d4-480f-9420-503cb9e8b123",
   "metadata": {},
   "outputs": [],
   "source": [
    "race_filtered = \\\n",
    "race_filtered.rename(\n",
    "    columns = {'Label (Grouping)' : 'state',\n",
    "               'RACE!!Total population!!One race!!White' : 'percent_white'})"
   ]
  },
  {
   "cell_type": "code",
   "execution_count": 60,
   "id": "d20e8617-cf52-46f5-9c91-f43f5a8629e3",
   "metadata": {},
   "outputs": [],
   "source": [
    "race_filtered['percent_white'] = race_filtered['percent_white'].str.replace(\"%\", \"\")"
   ]
  },
  {
   "cell_type": "code",
   "execution_count": 62,
   "id": "fae5ccf4-a3fd-45d1-99a5-97cc7555cedd",
   "metadata": {},
   "outputs": [],
   "source": [
    "race_filtered['state'] = race_filtered['state'].str.upper()"
   ]
  },
  {
   "cell_type": "code",
   "execution_count": 64,
   "id": "69ea3536-1d5e-4d01-b950-f3b8c983c025",
   "metadata": {},
   "outputs": [
    {
     "data": {
      "text/html": [
       "<div>\n",
       "<style scoped>\n",
       "    .dataframe tbody tr th:only-of-type {\n",
       "        vertical-align: middle;\n",
       "    }\n",
       "\n",
       "    .dataframe tbody tr th {\n",
       "        vertical-align: top;\n",
       "    }\n",
       "\n",
       "    .dataframe thead th {\n",
       "        text-align: right;\n",
       "    }\n",
       "</style>\n",
       "<table border=\"1\" class=\"dataframe\">\n",
       "  <thead>\n",
       "    <tr style=\"text-align: right;\">\n",
       "      <th></th>\n",
       "      <th>state</th>\n",
       "      <th>percent_white</th>\n",
       "    </tr>\n",
       "  </thead>\n",
       "  <tbody>\n",
       "    <tr>\n",
       "      <th>0</th>\n",
       "      <td>ALABAMA</td>\n",
       "      <td>67.50</td>\n",
       "    </tr>\n",
       "    <tr>\n",
       "      <th>1</th>\n",
       "      <td>ALASKA</td>\n",
       "      <td>63.40</td>\n",
       "    </tr>\n",
       "    <tr>\n",
       "      <th>2</th>\n",
       "      <td>ARIZONA</td>\n",
       "      <td>73.80</td>\n",
       "    </tr>\n",
       "    <tr>\n",
       "      <th>3</th>\n",
       "      <td>ARKANSAS</td>\n",
       "      <td>75.40</td>\n",
       "    </tr>\n",
       "    <tr>\n",
       "      <th>4</th>\n",
       "      <td>CALIFORNIA</td>\n",
       "      <td>56.10</td>\n",
       "    </tr>\n",
       "  </tbody>\n",
       "</table>\n",
       "</div>"
      ],
      "text/plain": [
       "        state percent_white\n",
       "0     ALABAMA         67.50\n",
       "1      ALASKA         63.40\n",
       "2     ARIZONA         73.80\n",
       "3    ARKANSAS         75.40\n",
       "4  CALIFORNIA         56.10"
      ]
     },
     "execution_count": 64,
     "metadata": {},
     "output_type": "execute_result"
    }
   ],
   "source": [
    "race_filtered.head(5)"
   ]
  },
  {
   "cell_type": "code",
   "execution_count": 66,
   "id": "8b43e058-1c5e-4afa-a390-3043a0ace883",
   "metadata": {},
   "outputs": [],
   "source": [
    "race_filtered.to_csv('race_states.csv', index=False)"
   ]
  },
  {
   "cell_type": "markdown",
   "id": "d29d1554-a440-4d55-ac29-eb91c0a3a104",
   "metadata": {},
   "source": [
    "## Urban Demographics by State Cleaning"
   ]
  },
  {
   "attachments": {},
   "cell_type": "markdown",
   "id": "1da0f32a-370e-472e-831a-bda6c28700cf",
   "metadata": {},
   "source": [
    "[Urban Demographics Census Link](https://data.census.gov/table/DECENNIALCD1182020.P2)"
   ]
  },
  {
   "cell_type": "code",
   "execution_count": 68,
   "id": "6db33c82-82b5-4f62-84a6-bca48242eabc",
   "metadata": {},
   "outputs": [],
   "source": [
    "urban = pd.read_csv('UrbanDemographics.csv')"
   ]
  },
  {
   "cell_type": "code",
   "execution_count": 70,
   "id": "877b3f37-5131-415e-b3e2-9a7451f564e1",
   "metadata": {},
   "outputs": [
    {
     "data": {
      "text/html": [
       "<div>\n",
       "<style scoped>\n",
       "    .dataframe tbody tr th:only-of-type {\n",
       "        vertical-align: middle;\n",
       "    }\n",
       "\n",
       "    .dataframe tbody tr th {\n",
       "        vertical-align: top;\n",
       "    }\n",
       "\n",
       "    .dataframe thead th {\n",
       "        text-align: right;\n",
       "    }\n",
       "</style>\n",
       "<table border=\"1\" class=\"dataframe\">\n",
       "  <thead>\n",
       "    <tr style=\"text-align: right;\">\n",
       "      <th></th>\n",
       "      <th>Label (Grouping)</th>\n",
       "      <th>Alabama</th>\n",
       "      <th>Alaska</th>\n",
       "      <th>Arizona</th>\n",
       "      <th>Arkansas</th>\n",
       "      <th>California</th>\n",
       "      <th>Colorado</th>\n",
       "      <th>Connecticut</th>\n",
       "      <th>Delaware</th>\n",
       "      <th>District of Columbia</th>\n",
       "      <th>...</th>\n",
       "      <th>Tennessee</th>\n",
       "      <th>Texas</th>\n",
       "      <th>Utah</th>\n",
       "      <th>Vermont</th>\n",
       "      <th>Virginia</th>\n",
       "      <th>Washington</th>\n",
       "      <th>West Virginia</th>\n",
       "      <th>Wisconsin</th>\n",
       "      <th>Wyoming</th>\n",
       "      <th>Puerto Rico</th>\n",
       "    </tr>\n",
       "  </thead>\n",
       "  <tbody>\n",
       "    <tr>\n",
       "      <th>0</th>\n",
       "      <td>Total:</td>\n",
       "      <td>5,024,279</td>\n",
       "      <td>733,391</td>\n",
       "      <td>7,151,502</td>\n",
       "      <td>3,011,524</td>\n",
       "      <td>39,538,223</td>\n",
       "      <td>5,773,714</td>\n",
       "      <td>3,605,944</td>\n",
       "      <td>989,948</td>\n",
       "      <td>689,545</td>\n",
       "      <td>...</td>\n",
       "      <td>6,910,840</td>\n",
       "      <td>29,145,505</td>\n",
       "      <td>3,271,616</td>\n",
       "      <td>643,077</td>\n",
       "      <td>8,631,393</td>\n",
       "      <td>7,705,281</td>\n",
       "      <td>1,793,716</td>\n",
       "      <td>5,893,718</td>\n",
       "      <td>576,851</td>\n",
       "      <td>3,285,874</td>\n",
       "    </tr>\n",
       "    <tr>\n",
       "      <th>1</th>\n",
       "      <td>Urban</td>\n",
       "      <td>2,900,880</td>\n",
       "      <td>475,967</td>\n",
       "      <td>6,385,230</td>\n",
       "      <td>1,670,677</td>\n",
       "      <td>37,259,490</td>\n",
       "      <td>4,966,936</td>\n",
       "      <td>3,110,153</td>\n",
       "      <td>817,817</td>\n",
       "      <td>689,545</td>\n",
       "      <td>...</td>\n",
       "      <td>4,577,282</td>\n",
       "      <td>24,400,697</td>\n",
       "      <td>2,937,303</td>\n",
       "      <td>225,850</td>\n",
       "      <td>6,528,313</td>\n",
       "      <td>6,424,035</td>\n",
       "      <td>800,857</td>\n",
       "      <td>3,953,691</td>\n",
       "      <td>357,750</td>\n",
       "      <td>3,018,908</td>\n",
       "    </tr>\n",
       "    <tr>\n",
       "      <th>2</th>\n",
       "      <td>Rural</td>\n",
       "      <td>2,123,399</td>\n",
       "      <td>257,424</td>\n",
       "      <td>766,272</td>\n",
       "      <td>1,340,847</td>\n",
       "      <td>2,278,733</td>\n",
       "      <td>806,778</td>\n",
       "      <td>495,791</td>\n",
       "      <td>172,131</td>\n",
       "      <td>0</td>\n",
       "      <td>...</td>\n",
       "      <td>2,333,558</td>\n",
       "      <td>4,744,808</td>\n",
       "      <td>334,313</td>\n",
       "      <td>417,227</td>\n",
       "      <td>2,103,080</td>\n",
       "      <td>1,281,246</td>\n",
       "      <td>992,859</td>\n",
       "      <td>1,940,027</td>\n",
       "      <td>219,101</td>\n",
       "      <td>266,966</td>\n",
       "    </tr>\n",
       "    <tr>\n",
       "      <th>3</th>\n",
       "      <td>Not defined for this file</td>\n",
       "      <td>0</td>\n",
       "      <td>0</td>\n",
       "      <td>0</td>\n",
       "      <td>0</td>\n",
       "      <td>0</td>\n",
       "      <td>0</td>\n",
       "      <td>0</td>\n",
       "      <td>0</td>\n",
       "      <td>0</td>\n",
       "      <td>...</td>\n",
       "      <td>0</td>\n",
       "      <td>0</td>\n",
       "      <td>0</td>\n",
       "      <td>0</td>\n",
       "      <td>0</td>\n",
       "      <td>0</td>\n",
       "      <td>0</td>\n",
       "      <td>0</td>\n",
       "      <td>0</td>\n",
       "      <td>0</td>\n",
       "    </tr>\n",
       "  </tbody>\n",
       "</table>\n",
       "<p>4 rows × 53 columns</p>\n",
       "</div>"
      ],
      "text/plain": [
       "                Label (Grouping)    Alabama   Alaska    Arizona   Arkansas  \\\n",
       "0                         Total:  5,024,279  733,391  7,151,502  3,011,524   \n",
       "1                          Urban  2,900,880  475,967  6,385,230  1,670,677   \n",
       "2                          Rural  2,123,399  257,424    766,272  1,340,847   \n",
       "3      Not defined for this file          0        0          0          0   \n",
       "\n",
       "   California   Colorado Connecticut Delaware District of Columbia  ...  \\\n",
       "0  39,538,223  5,773,714   3,605,944  989,948              689,545  ...   \n",
       "1  37,259,490  4,966,936   3,110,153  817,817              689,545  ...   \n",
       "2   2,278,733    806,778     495,791  172,131                    0  ...   \n",
       "3           0          0           0        0                    0  ...   \n",
       "\n",
       "   Tennessee       Texas       Utah  Vermont   Virginia Washington  \\\n",
       "0  6,910,840  29,145,505  3,271,616  643,077  8,631,393  7,705,281   \n",
       "1  4,577,282  24,400,697  2,937,303  225,850  6,528,313  6,424,035   \n",
       "2  2,333,558   4,744,808    334,313  417,227  2,103,080  1,281,246   \n",
       "3          0           0          0        0          0          0   \n",
       "\n",
       "  West Virginia  Wisconsin  Wyoming Puerto Rico  \n",
       "0     1,793,716  5,893,718  576,851   3,285,874  \n",
       "1       800,857  3,953,691  357,750   3,018,908  \n",
       "2       992,859  1,940,027  219,101     266,966  \n",
       "3             0          0        0           0  \n",
       "\n",
       "[4 rows x 53 columns]"
      ]
     },
     "execution_count": 70,
     "metadata": {},
     "output_type": "execute_result"
    }
   ],
   "source": [
    "urban"
   ]
  },
  {
   "cell_type": "code",
   "execution_count": 72,
   "id": "704f2aca-4db5-4396-a204-c1275da036ea",
   "metadata": {},
   "outputs": [],
   "source": [
    "urban = urban.melt(id_vars = 'Label (Grouping)', value_vars = urban.columns[1:])"
   ]
  },
  {
   "cell_type": "code",
   "execution_count": 74,
   "id": "0ecb3333-a5e7-4bd7-a80d-9f130922380d",
   "metadata": {},
   "outputs": [],
   "source": [
    "totals = urban[(urban['Label (Grouping)'] == 'Total:')]"
   ]
  },
  {
   "cell_type": "code",
   "execution_count": 76,
   "id": "d7b7b747-7555-4074-8310-2206515747fc",
   "metadata": {},
   "outputs": [],
   "source": [
    "urb = urban[(urban['Label (Grouping)'] == '\\xa0\\xa0\\xa0\\xa0Urban')]"
   ]
  },
  {
   "cell_type": "code",
   "execution_count": 78,
   "id": "2831c99a-264b-4cb9-a3bf-88c8dc66431d",
   "metadata": {},
   "outputs": [],
   "source": [
    "rur = urban[(urban['Label (Grouping)'] == '\\xa0\\xa0\\xa0\\xa0Rural')]"
   ]
  },
  {
   "cell_type": "code",
   "execution_count": 80,
   "id": "1fad6096-2f0e-461f-84fb-46445e159e12",
   "metadata": {},
   "outputs": [],
   "source": [
    "urb = urb.rename(columns={'value': 'urban_pop', 'variable':'state'}) "
   ]
  },
  {
   "cell_type": "code",
   "execution_count": 82,
   "id": "a6df5c87-d7e0-417d-a841-db0c4aacfa29",
   "metadata": {},
   "outputs": [],
   "source": [
    "rur = rur.rename(columns={'value': 'rural_pop', 'variable':'state'}) "
   ]
  },
  {
   "cell_type": "code",
   "execution_count": 84,
   "id": "2d9b1eae-74cf-4f29-be3e-cf4604072985",
   "metadata": {},
   "outputs": [],
   "source": [
    "totals = totals.rename(columns={'value': 'total_pop', 'variable':'state'}) "
   ]
  },
  {
   "cell_type": "code",
   "execution_count": 86,
   "id": "416cc04b-5f94-44af-9154-53ee4ebf1eeb",
   "metadata": {},
   "outputs": [],
   "source": [
    "merged = urb.merge(rur, left_on='state', right_on='state', how='inner') \\\n",
    "    .merge(totals, left_on='state', right_on = 'state', how='inner')[['state', 'urban_pop', 'rural_pop', 'total_pop']]"
   ]
  },
  {
   "cell_type": "code",
   "execution_count": 88,
   "id": "6f1967a4-1564-4097-bb35-da9168f4311b",
   "metadata": {},
   "outputs": [],
   "source": [
    "merged['urban_pop'] = merged['urban_pop'].str.replace(\",\", \"\")"
   ]
  },
  {
   "cell_type": "code",
   "execution_count": 90,
   "id": "0cdd85c4-6546-4feb-a251-42031b3e4fa7",
   "metadata": {},
   "outputs": [],
   "source": [
    "merged['rural_pop'] = merged['rural_pop'].str.replace(\",\", \"\")"
   ]
  },
  {
   "cell_type": "code",
   "execution_count": 92,
   "id": "a53f2827-429b-49ea-a03e-78cf1691dd52",
   "metadata": {},
   "outputs": [],
   "source": [
    "merged['total_pop'] = merged['total_pop'].str.replace(\",\", \"\")"
   ]
  },
  {
   "cell_type": "code",
   "execution_count": 94,
   "id": "c1974df3-a240-4f78-85f1-56b353120533",
   "metadata": {},
   "outputs": [],
   "source": [
    "merged['urban_pop'] = merged['urban_pop'].astype(int)"
   ]
  },
  {
   "cell_type": "code",
   "execution_count": 96,
   "id": "fd3af0bb-fee5-4fb8-8a69-035a547ed7d0",
   "metadata": {},
   "outputs": [],
   "source": [
    "merged['rural_pop'] = merged['rural_pop'].astype(int)"
   ]
  },
  {
   "cell_type": "code",
   "execution_count": 98,
   "id": "ce39e873-a969-4810-a320-5da105e3ee96",
   "metadata": {},
   "outputs": [],
   "source": [
    "merged['total_pop'] = merged['total_pop'].astype(int)"
   ]
  },
  {
   "cell_type": "code",
   "execution_count": 100,
   "id": "1931128a-fea5-44dc-b949-b4843a82a6f1",
   "metadata": {},
   "outputs": [],
   "source": [
    "merged['urban_percent'] = round((merged['urban_pop'] / merged['total_pop']) * 100, 2)"
   ]
  },
  {
   "cell_type": "code",
   "execution_count": 102,
   "id": "54e5a857-2220-402a-b8b9-8fe016a0ff7e",
   "metadata": {},
   "outputs": [],
   "source": [
    "merged['rural_percent'] = round((merged['rural_pop'] / merged['total_pop']) * 100, 2)"
   ]
  },
  {
   "cell_type": "code",
   "execution_count": 106,
   "id": "7b0b05c0-49cd-43db-8416-e5253ec87473",
   "metadata": {},
   "outputs": [],
   "source": [
    "merged['state'] = merged['state'].str.upper()"
   ]
  },
  {
   "cell_type": "code",
   "execution_count": 108,
   "id": "874942a4-6d1f-4db3-a551-406121f2a86f",
   "metadata": {},
   "outputs": [
    {
     "data": {
      "text/html": [
       "<div>\n",
       "<style scoped>\n",
       "    .dataframe tbody tr th:only-of-type {\n",
       "        vertical-align: middle;\n",
       "    }\n",
       "\n",
       "    .dataframe tbody tr th {\n",
       "        vertical-align: top;\n",
       "    }\n",
       "\n",
       "    .dataframe thead th {\n",
       "        text-align: right;\n",
       "    }\n",
       "</style>\n",
       "<table border=\"1\" class=\"dataframe\">\n",
       "  <thead>\n",
       "    <tr style=\"text-align: right;\">\n",
       "      <th></th>\n",
       "      <th>state</th>\n",
       "      <th>urban_pop</th>\n",
       "      <th>rural_pop</th>\n",
       "      <th>total_pop</th>\n",
       "      <th>urban_percent</th>\n",
       "      <th>rural_percent</th>\n",
       "    </tr>\n",
       "  </thead>\n",
       "  <tbody>\n",
       "    <tr>\n",
       "      <th>0</th>\n",
       "      <td>ALABAMA</td>\n",
       "      <td>2900880</td>\n",
       "      <td>2123399</td>\n",
       "      <td>5024279</td>\n",
       "      <td>57.74</td>\n",
       "      <td>42.26</td>\n",
       "    </tr>\n",
       "    <tr>\n",
       "      <th>1</th>\n",
       "      <td>ALASKA</td>\n",
       "      <td>475967</td>\n",
       "      <td>257424</td>\n",
       "      <td>733391</td>\n",
       "      <td>64.90</td>\n",
       "      <td>35.10</td>\n",
       "    </tr>\n",
       "    <tr>\n",
       "      <th>2</th>\n",
       "      <td>ARIZONA</td>\n",
       "      <td>6385230</td>\n",
       "      <td>766272</td>\n",
       "      <td>7151502</td>\n",
       "      <td>89.29</td>\n",
       "      <td>10.71</td>\n",
       "    </tr>\n",
       "    <tr>\n",
       "      <th>3</th>\n",
       "      <td>ARKANSAS</td>\n",
       "      <td>1670677</td>\n",
       "      <td>1340847</td>\n",
       "      <td>3011524</td>\n",
       "      <td>55.48</td>\n",
       "      <td>44.52</td>\n",
       "    </tr>\n",
       "    <tr>\n",
       "      <th>4</th>\n",
       "      <td>CALIFORNIA</td>\n",
       "      <td>37259490</td>\n",
       "      <td>2278733</td>\n",
       "      <td>39538223</td>\n",
       "      <td>94.24</td>\n",
       "      <td>5.76</td>\n",
       "    </tr>\n",
       "  </tbody>\n",
       "</table>\n",
       "</div>"
      ],
      "text/plain": [
       "        state  urban_pop  rural_pop  total_pop  urban_percent  rural_percent\n",
       "0     ALABAMA    2900880    2123399    5024279          57.74          42.26\n",
       "1      ALASKA     475967     257424     733391          64.90          35.10\n",
       "2     ARIZONA    6385230     766272    7151502          89.29          10.71\n",
       "3    ARKANSAS    1670677    1340847    3011524          55.48          44.52\n",
       "4  CALIFORNIA   37259490    2278733   39538223          94.24           5.76"
      ]
     },
     "execution_count": 108,
     "metadata": {},
     "output_type": "execute_result"
    }
   ],
   "source": [
    "merged.head()"
   ]
  },
  {
   "cell_type": "code",
   "execution_count": 110,
   "id": "a2d6ae95-b3d0-40bb-8b70-dff0cc40387b",
   "metadata": {},
   "outputs": [],
   "source": [
    "merged.to_csv('urban_states.csv', index=False)"
   ]
  }
 ],
 "metadata": {
  "kernelspec": {
   "display_name": "Python 3 (ipykernel)",
   "language": "python",
   "name": "python3"
  },
  "language_info": {
   "codemirror_mode": {
    "name": "ipython",
    "version": 3
   },
   "file_extension": ".py",
   "mimetype": "text/x-python",
   "name": "python",
   "nbconvert_exporter": "python",
   "pygments_lexer": "ipython3",
   "version": "3.11.7"
  }
 },
 "nbformat": 4,
 "nbformat_minor": 5
}
